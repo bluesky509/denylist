{
 "cells": [
  {
   "cell_type": "code",
   "execution_count": 16,
   "id": "64863081",
   "metadata": {},
   "outputs": [
    {
     "name": "stdout",
     "output_type": "stream",
     "text": [
      "Blacklist saved to ublock_blacklist.txt\n"
     ]
    }
   ],
   "source": [
    "import requests\n",
    "from bs4 import BeautifulSoup\n",
    "from datetime import datetime\n",
    "import os\n",
    "\n",
    "# URL of the Reddit page with blacklisted websites\n",
    "url = \"https://www.reddit.com/r/gundeals/wiki/blacklisted_websites/\"\n",
    "\n",
    "# Function to scrape data from the URL\n",
    "headers = {'User-Agent': 'Mozilla/5.0'}\n",
    "def getdata(url):\n",
    "    r = requests.get(url, headers=headers)\n",
    "    return r.text\n",
    "\n",
    "# Fetch the HTML data and parse it\n",
    "htmldata = getdata(url)\n",
    "soup = BeautifulSoup(htmldata, 'html.parser')\n",
    "\n",
    "# Extract the relevant section of the HTML\n",
    "start_collecting = False\n",
    "blacklisted_sites = []\n",
    "\n",
    "for tr in soup.find_all('tr'):\n",
    "    if start_collecting:\n",
    "        tds = tr.find_all('td')\n",
    "        if len(tds) > 1:\n",
    "            site = tds[1].get_text().strip()\n",
    "            if site and '.' in site and ' ' not in site:\n",
    "                blacklisted_sites.append(site)\n",
    "    if \"Dealer Website\" in str(tr):\n",
    "        start_collecting = True\n",
    "    if \"Scam Websites\" in str(tr):\n",
    "        break\n",
    "\n",
    "# Add static sites\n",
    "static_sites = [\"CenterFireGuns.com\", \"Arkansasgundealer.com\"]\n",
    "blacklisted_sites.extend(static_sites)\n",
    "\n",
    "# Format the list for uBlock\n",
    "unique_urls = list(set(blacklisted_sites))  # Remove duplicates\n",
    "\n",
    "# Prepare the header\n",
    "header = \"\"\"[Adblock Plus 2.0]\n",
    "! Version: \n",
    "! Title: Bad Ammo Sites\n",
    "! Last modified: {date}\n",
    "! Expires: 365 days (update frequency)\n",
    "! Homepage: https://github.com/bluesky509/denylist\n",
    "! This URL: https://raw.githubusercontent.com/bluesky509/clickbait/master/badammo.txt\n",
    "! License: https://github.com/bluesky509/clickbait/blob/master/LICENSE.txt\n",
    "\"\"\".format(date=datetime.now().strftime(\"%Y-%m-%d\"))\n",
    "\n",
    "# Save the formatted list to a file in the same directory\n",
    "output_path = 'ublock_blacklist.txt'\n",
    "\n",
    "with open(output_path, 'w') as file:\n",
    "    file.write(header)\n",
    "    for site in unique_urls:\n",
    "        file.write(f\"{site}\\n\")\n",
    "\n",
    "print(f\"Blacklist saved to {output_path}\")"
   ]
  }
 ],
 "metadata": {
  "kernelspec": {
   "display_name": "Python 3 (ipykernel)",
   "language": "python",
   "name": "python3"
  },
  "language_info": {
   "codemirror_mode": {
    "name": "ipython",
    "version": 3
   },
   "file_extension": ".py",
   "mimetype": "text/x-python",
   "name": "python",
   "nbconvert_exporter": "python",
   "pygments_lexer": "ipython3",
   "version": "3.12.4"
  }
 },
 "nbformat": 4,
 "nbformat_minor": 5
}
